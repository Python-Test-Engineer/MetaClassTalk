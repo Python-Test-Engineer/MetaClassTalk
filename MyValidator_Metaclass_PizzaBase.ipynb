{
 "cells": [
  {
   "cell_type": "code",
   "execution_count": 1,
   "metadata": {},
   "outputs": [],
   "source": [
    "import math\n",
    "import random\n",
    "from rich.console import Console\n",
    "\n",
    "console = Console()\n",
    "\n",
    "\n",
    "class Pizzabase(metaclass=type):\n",
    "\n",
    "    def __init__(self, radius):\n",
    "\n",
    "        self.radius = radius\n",
    "\n",
    "    def area(self):\n",
    "\n",
    "        return round(math.pi * self.radius**2, 2)"
   ]
  },
  {
   "cell_type": "code",
   "execution_count": 2,
   "metadata": {},
   "outputs": [
    {
     "data": {
      "text/plain": [
       "(type, 'Pizzabase')"
      ]
     },
     "execution_count": 2,
     "metadata": {},
     "output_type": "execute_result"
    }
   ],
   "source": [
    "type(Pizzabase), Pizzabase.__name__"
   ]
  },
  {
   "cell_type": "code",
   "execution_count": 3,
   "metadata": {},
   "outputs": [
    {
     "data": {
      "text/plain": [
       "314.16"
      ]
     },
     "execution_count": 3,
     "metadata": {},
     "output_type": "execute_result"
    }
   ],
   "source": [
    "p = Pizzabase(10)\n",
    "p.area()"
   ]
  },
  {
   "cell_type": "code",
   "execution_count": 4,
   "metadata": {},
   "outputs": [],
   "source": [
    "CUSTOM_COUNTER = 0"
   ]
  },
  {
   "cell_type": "code",
   "execution_count": 5,
   "metadata": {},
   "outputs": [],
   "source": [
    "class MyCustomType(type):\n",
    "    # Pizzabase, (,)\n",
    "    def __prepare__(class_name, inherited_classes):\n",
    "        console.print(\"[aquamarine1]__prepare_ called...[/]\")\n",
    "        console.print(\n",
    "            f\"Using custom metaclass __prepare__ with class_class_name {class_name} and Inherited Classes {inherited_classes}\\n\"\n",
    "        )\n",
    "\n",
    "        return {}\n",
    "\n",
    "    def __new__(metacls, class_name, inherited_classes, class_body):\n",
    "\n",
    "        console.print(\"[gold1]__new__ called...[/]\")\n",
    "\n",
    "        print(f\"Using custom metaclass {metacls} to create class {class_name}...\\n\")\n",
    "        print(\n",
    "            f\"Developer can now run organisation validations here by adding metaclass {metacls} to class {class_name}...\\n\"\n",
    "        )\n",
    "\n",
    "        if not class_name.istitle():\n",
    "\n",
    "            raise ValueError(\"Class class_name must start with an uppercase letter\")\n",
    "\n",
    "        else:\n",
    "\n",
    "            console.print(\"GOOD JOB! Title case used.\")\n",
    "\n",
    "        # print(vars(class_name)) class_name is just a string not the class object\n",
    "        cls_obj = super().__new__(metacls, class_name, inherited_classes, class_body)\n",
    "\n",
    "        cls_obj.circ = lambda self: round(2 * math.pi * self.radius, 2)\n",
    "\n",
    "        return cls_obj\n",
    "\n",
    "    def __call__(cls, *args, **kwargs):\n",
    "        console.print(\"==========================================================\")\n",
    "        console.print(\"[bright_yellow]__call__ called...[/]\")\n",
    "\n",
    "        print(f\"Calling {cls} with {args} and {kwargs}\")\n",
    "        if cls.__dict__[\"__doc__\"] is not None:\n",
    "            print(\"Good job! You added a doc string.\")\n",
    "            print(f\"{cls.__dict__['__doc__']}\\n\")\n",
    "        else:\n",
    "            raise ValueError(\"You forgot to add a doc string.\")\n",
    "\n",
    "        console.print(\"We can record how often the class is called.\")\n",
    "        # some DB etc...\n",
    "        global CUSTOM_COUNTER\n",
    "        CUSTOM_COUNTER += 1\n",
    "        print(f\"{cls} has been called {CUSTOM_COUNTER} times\\n\")\n",
    "        console.print(\"==========================================================\")\n",
    "\n",
    "        return super().__call__(*args, **kwargs)"
   ]
  },
  {
   "cell_type": "code",
   "execution_count": 6,
   "metadata": {},
   "outputs": [
    {
     "data": {
      "text/html": [
       "<pre style=\"white-space:pre;overflow-x:auto;line-height:normal;font-family:Menlo,'DejaVu Sans Mono',consolas,'Courier New',monospace\"><span style=\"color: #87ffd7; text-decoration-color: #87ffd7\">__prepare_ called...</span>\n",
       "</pre>\n"
      ],
      "text/plain": [
       "\u001b[38;5;122m__prepare_ called\u001b[0m\u001b[38;5;122m...\u001b[0m\n"
      ]
     },
     "metadata": {},
     "output_type": "display_data"
    },
    {
     "data": {
      "text/html": [
       "<pre style=\"white-space:pre;overflow-x:auto;line-height:normal;font-family:Menlo,'DejaVu Sans Mono',consolas,'Courier New',monospace\">Using custom metaclass __prepare__ with class_class_name Pizzabase and Inherited Classes <span style=\"font-weight: bold\">()</span>\n",
       "\n",
       "</pre>\n"
      ],
      "text/plain": [
       "Using custom metaclass __prepare__ with class_class_name Pizzabase and Inherited Classes \u001b[1m(\u001b[0m\u001b[1m)\u001b[0m\n",
       "\n"
      ]
     },
     "metadata": {},
     "output_type": "display_data"
    },
    {
     "data": {
      "text/html": [
       "<pre style=\"white-space:pre;overflow-x:auto;line-height:normal;font-family:Menlo,'DejaVu Sans Mono',consolas,'Courier New',monospace\"><span style=\"color: #ffd700; text-decoration-color: #ffd700\">__new__ called...</span>\n",
       "</pre>\n"
      ],
      "text/plain": [
       "\u001b[38;5;220m__new__ called\u001b[0m\u001b[38;5;220m...\u001b[0m\n"
      ]
     },
     "metadata": {},
     "output_type": "display_data"
    },
    {
     "name": "stdout",
     "output_type": "stream",
     "text": [
      "Using custom metaclass <class '__main__.MyCustomType'> to create class Pizzabase...\n",
      "\n",
      "Developer can now run organisation validations here by adding metaclass <class '__main__.MyCustomType'> to class Pizzabase...\n",
      "\n"
     ]
    },
    {
     "data": {
      "text/html": [
       "<pre style=\"white-space:pre;overflow-x:auto;line-height:normal;font-family:Menlo,'DejaVu Sans Mono',consolas,'Courier New',monospace\">GOOD JOB! Title case used.\n",
       "</pre>\n"
      ],
      "text/plain": [
       "GOOD JOB! Title case used.\n"
      ]
     },
     "metadata": {},
     "output_type": "display_data"
    }
   ],
   "source": [
    "class Pizzabase(metaclass=MyCustomType):\n",
    "    \"\"\"TEST\"\"\"\n",
    "\n",
    "    def __init__(self, radius):\n",
    "        console.print(f'[green_yellow]\\n__init__ being called with radius {radius}\"[/]')\n",
    "\n",
    "        self.radius = radius\n",
    "\n",
    "    def area(self):\n",
    "\n",
    "        return round(math.pi * self.radius**2, 2)\n",
    "\n",
    "\n",
    "# NB the __call__ method is not called"
   ]
  },
  {
   "cell_type": "code",
   "execution_count": 7,
   "metadata": {},
   "outputs": [
    {
     "data": {
      "text/plain": [
       "mappingproxy({'__module__': '__main__',\n",
       "              '__doc__': 'TEST',\n",
       "              '__init__': <function __main__.Pizzabase.__init__(self, radius)>,\n",
       "              'area': <function __main__.Pizzabase.area(self)>,\n",
       "              '__dict__': <attribute '__dict__' of 'Pizzabase' objects>,\n",
       "              '__weakref__': <attribute '__weakref__' of 'Pizzabase' objects>,\n",
       "              'circ': <function __main__.MyCustomType.__new__.<locals>.<lambda>(self)>})"
      ]
     },
     "execution_count": 7,
     "metadata": {},
     "output_type": "execute_result"
    }
   ],
   "source": [
    "vars(Pizzabase)"
   ]
  },
  {
   "cell_type": "code",
   "execution_count": 16,
   "metadata": {},
   "outputs": [
    {
     "data": {
      "text/html": [
       "<pre style=\"white-space:pre;overflow-x:auto;line-height:normal;font-family:Menlo,'DejaVu Sans Mono',consolas,'Courier New',monospace\">==========================================================\n",
       "</pre>\n"
      ],
      "text/plain": [
       "==========================================================\n"
      ]
     },
     "metadata": {},
     "output_type": "display_data"
    },
    {
     "data": {
      "text/html": [
       "<pre style=\"white-space:pre;overflow-x:auto;line-height:normal;font-family:Menlo,'DejaVu Sans Mono',consolas,'Courier New',monospace\"><span style=\"color: #ffff00; text-decoration-color: #ffff00\">__call__ called...</span>\n",
       "</pre>\n"
      ],
      "text/plain": [
       "\u001b[93m__call__ called\u001b[0m\u001b[93m...\u001b[0m\n"
      ]
     },
     "metadata": {},
     "output_type": "display_data"
    },
    {
     "name": "stdout",
     "output_type": "stream",
     "text": [
      "Calling <class '__main__.Pizzabase'> with (10,) and {}\n",
      "Good job! You added a doc string.\n",
      "TEST\n",
      "\n"
     ]
    },
    {
     "data": {
      "text/html": [
       "<pre style=\"white-space:pre;overflow-x:auto;line-height:normal;font-family:Menlo,'DejaVu Sans Mono',consolas,'Courier New',monospace\">We can record how often the class is called.\n",
       "</pre>\n"
      ],
      "text/plain": [
       "We can record how often the class is called.\n"
      ]
     },
     "metadata": {},
     "output_type": "display_data"
    },
    {
     "name": "stdout",
     "output_type": "stream",
     "text": [
      "<class '__main__.Pizzabase'> has been called 9 times\n",
      "\n"
     ]
    },
    {
     "data": {
      "text/html": [
       "<pre style=\"white-space:pre;overflow-x:auto;line-height:normal;font-family:Menlo,'DejaVu Sans Mono',consolas,'Courier New',monospace\">==========================================================\n",
       "</pre>\n"
      ],
      "text/plain": [
       "==========================================================\n"
      ]
     },
     "metadata": {},
     "output_type": "display_data"
    },
    {
     "data": {
      "text/html": [
       "<pre style=\"white-space:pre;overflow-x:auto;line-height:normal;font-family:Menlo,'DejaVu Sans Mono',consolas,'Courier New',monospace\">\n",
       "<span style=\"color: #afff00; text-decoration-color: #afff00\">__init__ being called with radius </span><span style=\"color: #afff00; text-decoration-color: #afff00; font-weight: bold\">10</span><span style=\"color: #afff00; text-decoration-color: #afff00\">\"</span>\n",
       "</pre>\n"
      ],
      "text/plain": [
       "\n",
       "\u001b[38;5;154m__init__ being called with radius \u001b[0m\u001b[1;38;5;154m10\u001b[0m\u001b[38;5;154m\"\u001b[0m\n"
      ]
     },
     "metadata": {},
     "output_type": "display_data"
    },
    {
     "name": "stdout",
     "output_type": "stream",
     "text": [
      "Pizz Circumference 62.83\n",
      "Pizza areas 314.16\n"
     ]
    }
   ],
   "source": [
    "p = Pizzabase(random.randint(1, 10))\n",
    "print(f\"Pizz Circumference {p.circ()}\")\n",
    "print(f\"Pizza areas {p.area()}\")"
   ]
  },
  {
   "cell_type": "code",
   "execution_count": null,
   "metadata": {},
   "outputs": [],
   "source": []
  },
  {
   "cell_type": "code",
   "execution_count": null,
   "metadata": {},
   "outputs": [],
   "source": []
  }
 ],
 "metadata": {
  "kernelspec": {
   "display_name": "Python 3",
   "language": "python",
   "name": "python3"
  },
  "language_info": {
   "codemirror_mode": {
    "name": "ipython",
    "version": 3
   },
   "file_extension": ".py",
   "mimetype": "text/x-python",
   "name": "python",
   "nbconvert_exporter": "python",
   "pygments_lexer": "ipython3",
   "version": "3.12.6"
  }
 },
 "nbformat": 4,
 "nbformat_minor": 2
}
