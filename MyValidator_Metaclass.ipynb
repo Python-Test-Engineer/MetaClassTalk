{
 "cells": [
  {
   "cell_type": "code",
   "execution_count": 50,
   "metadata": {},
   "outputs": [],
   "source": [
    "import math\n",
    "import random\n",
    "\n",
    "\n",
    "\n",
    "class Circle(metaclass=type):\n",
    "\n",
    "    def __init__(self, x, y, r):\n",
    "\n",
    "        self.x = x\n",
    "        self.y = y\n",
    "        self.r = r\n",
    "\n",
    "\n",
    "    def area(self):\n",
    "\n",
    "\n",
    "        return round(math.pi * self.r**2, 2)"
   ]
  },
  {
   "cell_type": "code",
   "execution_count": 51,
   "metadata": {},
   "outputs": [
    {
     "data": {
      "text/plain": [
       "(type, 'Circle')"
      ]
     },
     "execution_count": 51,
     "metadata": {},
     "output_type": "execute_result"
    }
   ],
   "source": [
    "type(Circle), Circle.__name__"
   ]
  },
  {
   "cell_type": "code",
   "execution_count": 52,
   "metadata": {},
   "outputs": [
    {
     "data": {
      "text/plain": [
       "3.14"
      ]
     },
     "execution_count": 52,
     "metadata": {},
     "output_type": "execute_result"
    }
   ],
   "source": [
    "c = Circle(0, 0, 1)\n",
    "c.area()"
   ]
  },
  {
   "cell_type": "code",
   "execution_count": 53,
   "metadata": {},
   "outputs": [],
   "source": [
    "CUSTOM_COUNTER = 0"
   ]
  },
  {
   "cell_type": "code",
   "execution_count": 54,
   "metadata": {},
   "outputs": [],
   "source": [
    "class MyCustomType(type):\n",
    "\n",
    "    def __prepare__(name, bases):\n",
    "        print(\"__prepare_ called...\")\n",
    "        print(\n",
    "\n",
    "            f\"Using custom metaclass __prepare__ with class_name {name} and Inherited Classes {bases}\\n\"\n",
    "        )\n",
    "\n",
    "\n",
    "        return {}\n",
    "\n",
    "\n",
    "    def __new__(mcls, name, bases, class_dict):\n",
    "\n",
    "        print(\"__new__ called...\")\n",
    "\n",
    "        print(f\"Using custom metaclass {mcls} to create class {name}...\\n\")\n",
    "        print(\n",
    "\n",
    "            f\"Developer can now run organisation validations here by adding metaclass {mcls} to class {name}...\\n\"\n",
    "        )\n",
    "\n",
    "\n",
    "        if not name.istitle():\n",
    "\n",
    "\n",
    "            raise ValueError(\"Class name must start with an uppercase letter\")\n",
    "\n",
    "\n",
    "        else:\n",
    "\n",
    "\n",
    "            print(\"GOOD JOB! Title case used.\")\n",
    "\n",
    "        # print(vars(name)) name is just a string not the class object\n",
    "        cls_obj = super().__new__(mcls, name, bases, class_dict)\n",
    "\n",
    "\n",
    "        cls_obj.circ = lambda self: round(2 * math.pi * self.r, 2)\n",
    "\n",
    "\n",
    "        return cls_obj\n",
    "\n",
    "\n",
    "    def __call__(cls, *args, **kwargs):\n",
    "        print(\"==========================================================\")\n",
    "        print(\"__call__ called...\")\n",
    "\n",
    "\n",
    "        print(f\"Calling {cls} with {args} and {kwargs}\")\n",
    "        if cls.__dict__[\"__doc__\"] is not None:\n",
    "            print(\"Good job! You added a doc string.\")\n",
    "            print(f\"{cls.__dict__['__doc__']}\\n\")\n",
    "        else:\n",
    "            raise ValueError(\"You forgot to add a doc string.\")\n",
    "\n",
    "        print(\"We can record how often the class is called.\")\n",
    "        # some DB etc...\n",
    "        global CUSTOM_COUNTER\n",
    "        CUSTOM_COUNTER += 1\n",
    "        print(f\"{cls} has been called {CUSTOM_COUNTER} times\\n\")\n",
    "        print(\"==========================================================\")\n",
    "\n",
    "        return super().__call__(*args, **kwargs)"
   ]
  },
  {
   "cell_type": "code",
   "execution_count": 55,
   "metadata": {},
   "outputs": [
    {
     "name": "stdout",
     "output_type": "stream",
     "text": [
      "__prepare_ called...\n",
      "Using custom metaclass __prepare__ with class_name Circle and Inherited Classes ()\n",
      "\n",
      "__new__ called...\n",
      "Using custom metaclass <class '__main__.MyCustomType'> to create class Circle...\n",
      "\n",
      "Developer can now run organisation validations here by adding metaclass <class '__main__.MyCustomType'> to class Circle...\n",
      "\n",
      "GOOD JOB! Title case used.\n"
     ]
    }
   ],
   "source": [
    "class Circle(metaclass=MyCustomType):\n",
    "    \"\"\"TEST\"\"\"\n",
    "\n",
    "    def __init__(self, x, y, r):\n",
    "\n",
    "        self.x = x\n",
    "        self.y = y\n",
    "        self.r = r\n",
    "\n",
    "\n",
    "    def area(self):\n",
    "\n",
    "        return round(math.pi * self.r**2, 2)\n",
    "\n",
    "\n",
    "\n",
    "# NB the __call__ method is not called"
   ]
  },
  {
   "cell_type": "code",
   "execution_count": 56,
   "metadata": {},
   "outputs": [],
   "source": [
    "# vars(Circle)"
   ]
  },
  {
   "cell_type": "code",
   "execution_count": 74,
   "metadata": {},
   "outputs": [
    {
     "name": "stdout",
     "output_type": "stream",
     "text": [
      "==========================================================\n",
      "__call__ called...\n",
      "Calling <class '__main__.Circle'> with (1, 1, 2) and {}\n",
      "Good job! You added a doc string.\n",
      "TEST\n",
      "\n",
      "We can record how often the class is called.\n",
      "<class '__main__.Circle'> has been called 18 times\n",
      "\n",
      "==========================================================\n",
      "12.57\n",
      "12.57\n"
     ]
    }
   ],
   "source": [
    "c = Circle(1, 1, random.randint(1, 10))\n",
    "print(c.area())\n",
    "print(c.circ())"
   ]
  },
  {
   "cell_type": "code",
   "execution_count": null,
   "metadata": {},
   "outputs": [],
   "source": []
  },
  {
   "cell_type": "code",
   "execution_count": null,
   "metadata": {},
   "outputs": [],
   "source": []
  }
 ],
 "metadata": {
  "kernelspec": {
   "display_name": "Python 3",
   "language": "python",
   "name": "python3"
  },
  "language_info": {
   "codemirror_mode": {
    "name": "ipython",
    "version": 3
   },
   "file_extension": ".py",
   "mimetype": "text/x-python",
   "name": "python",
   "nbconvert_exporter": "python",
   "pygments_lexer": "ipython3",
   "version": "3.12.6"
  }
 },
 "nbformat": 4,
 "nbformat_minor": 2
}
