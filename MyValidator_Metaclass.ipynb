{
 "cells": [
  {
   "cell_type": "code",
   "execution_count": 15,
   "metadata": {},
   "outputs": [],
   "source": [
    "import math\n",
    "\n",
    "\n",
    "class Circle(metaclass=type):\n",
    "    def __init__(self, x, y, r):\n",
    "        self.x = x\n",
    "        self.y = y\n",
    "        self.r = r\n",
    "\n",
    "    def area(self):\n",
    "        return math.pi * self.r**2"
   ]
  },
  {
   "cell_type": "code",
   "execution_count": 16,
   "metadata": {},
   "outputs": [
    {
     "data": {
      "text/plain": [
       "(type, 'Circle')"
      ]
     },
     "execution_count": 16,
     "metadata": {},
     "output_type": "execute_result"
    }
   ],
   "source": [
    "type(Circle), Circle.__name__"
   ]
  },
  {
   "cell_type": "code",
   "execution_count": 17,
   "metadata": {},
   "outputs": [
    {
     "data": {
      "text/plain": [
       "3.141592653589793"
      ]
     },
     "execution_count": 17,
     "metadata": {},
     "output_type": "execute_result"
    }
   ],
   "source": [
    "c = Circle(0, 0, 1)\n",
    "c.area()"
   ]
  },
  {
   "cell_type": "code",
   "execution_count": 18,
   "metadata": {},
   "outputs": [],
   "source": [
    "class MyCustomType(type):\n",
    "    def __prepare__(name, bases):\n",
    "        print(\"__prepare_ called...\")\n",
    "        print(\n",
    "            f\"Using custom metaclass __prepare__ with class_name {name} and Inerited Classes {bases}\\n\"\n",
    "        )\n",
    "        return {}\n",
    "\n",
    "    def __new__(mcls, name, bases, class_dict):\n",
    "        print(\"__new__ called...\")\n",
    "        print(f\"Using custom metaclass {mcls} to create class {name}...\\n\")\n",
    "        print(\n",
    "\n",
    "            f\"Developer can now run organisation validations here by adding metaclass {mcls} to class {name}...\\n\"\n",
    "        )\n",
    "\n",
    "\n",
    "        print(f\"We can apply a range of validtaions here.\")\n",
    "\n",
    "        if not name.istitle():\n",
    "\n",
    "            raise ValueError(\"Class name must start with an uppercase letter\")\n",
    "\n",
    "        else:\n",
    "\n",
    "\n",
    "            print(\"GOOD JOB! Title case used.\")\n",
    "\n",
    "        if name.__doc__ is None:\n",
    "\n",
    "            raise ValueError(\"Class must have a docstring\")\n",
    "\n",
    "        cls_obj = super().__new__(mcls, name, bases, class_dict)\n",
    "\n",
    "        cls_obj.circ = lambda self: 2 * math.pi * self.r\n",
    "\n",
    "        return cls_obj\n",
    "\n",
    "    def __call__(cls, *args, **kwargs):\n",
    "        print(\"==========================================================\")\n",
    "        print(\"__call__ called...\")\n",
    "        print(f\"Calling {cls} with {args} and {kwargs}\")\n",
    "        print(\"We can record how often the class is called.\")\n",
    "        print(\"==========================================================\")\n",
    "\n",
    "        return super().__call__(*args, **kwargs)"
   ]
  },
  {
   "cell_type": "code",
   "execution_count": 19,
   "metadata": {},
   "outputs": [
    {
     "name": "stdout",
     "output_type": "stream",
     "text": [
      "__prepare_ called...\n",
      "Using custom metaclass __prepare__ with class_name Circle and Inerited Classes ()\n",
      "\n",
      "__new__ called...\n",
      "Using custom metaclass <class '__main__.MyCustomType'> to create class Circle...\n",
      "\n",
      "Developer can now run organisation validations here by adding metaclass <class '__main__.MyCustomType'> to class Circle...\n",
      "\n",
      "We can apply a range of validtaions here.\n",
      "GOOD JOB! Title case used.\n"
     ]
    }
   ],
   "source": [
    "class Circle(metaclass=MyCustomType):\n",
    "    def __init__(self, x, y, r):\n",
    "        self.x = x\n",
    "        self.y = y\n",
    "        self.r = r\n",
    "\n",
    "    def area(self):\n",
    "        return math.pi * self.r**2\n",
    "\n",
    "\n",
    "# NB the __call__ method is not called"
   ]
  },
  {
   "cell_type": "code",
   "execution_count": 20,
   "metadata": {},
   "outputs": [
    {
     "data": {
      "text/plain": [
       "mappingproxy({'__module__': '__main__',\n",
       "              '__init__': <function __main__.Circle.__init__(self, x, y, r)>,\n",
       "              'area': <function __main__.Circle.area(self)>,\n",
       "              '__dict__': <attribute '__dict__' of 'Circle' objects>,\n",
       "              '__weakref__': <attribute '__weakref__' of 'Circle' objects>,\n",
       "              '__doc__': None,\n",
       "              'circ': <function __main__.MyCustomType.__new__.<locals>.<lambda>(self)>})"
      ]
     },
     "execution_count": 20,
     "metadata": {},
     "output_type": "execute_result"
    }
   ],
   "source": [
    "vars(Circle)"
   ]
  },
  {
   "cell_type": "markdown",
   "metadata": {},
   "source": [
    "And we can use it just like before:"
   ]
  },
  {
   "cell_type": "code",
   "execution_count": 21,
   "metadata": {},
   "outputs": [
    {
     "name": "stdout",
     "output_type": "stream",
     "text": [
      "==========================================================\n",
      "__call__ called...\n",
      "Calling <class '__main__.Circle'> with (1, 1, 2) and {}\n",
      "We can record how often the class is called.\n",
      "==========================================================\n",
      "12.566370614359172\n",
      "12.566370614359172\n"
     ]
    }
   ],
   "source": [
    "c = Circle(1, 1, 2)\n",
    "print(c.area())\n",
    "print(c.circ())"
   ]
  }
 ],
 "metadata": {
  "kernelspec": {
   "display_name": "Python 3",
   "language": "python",
   "name": "python3"
  },
  "language_info": {
   "codemirror_mode": {
    "name": "ipython",
    "version": 3
   },
   "file_extension": ".py",
   "mimetype": "text/x-python",
   "name": "python",
   "nbconvert_exporter": "python",
   "pygments_lexer": "ipython3",
   "version": "3.12.6"
  }
 },
 "nbformat": 4,
 "nbformat_minor": 2
}
