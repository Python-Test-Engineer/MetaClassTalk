{
 "cells": [
  {
   "cell_type": "code",
   "execution_count": 15,
   "metadata": {},
   "outputs": [],
   "source": [
    "import math\n",
    "import random\n",
    "from rich.console import Console\n",
    "\n",
    "console = Console()\n",
    "\n",
    "\n",
    "class Circle(metaclass=type):\n",
    "\n",
    "    def __init__(self, x, y, r):\n",
    "\n",
    "        self.x = x\n",
    "        self.y = y\n",
    "        self.r = r\n",
    "\n",
    "    def area(self):\n",
    "\n",
    "        return round(math.pi * self.r**2, 2)"
   ]
  },
  {
   "cell_type": "code",
   "execution_count": 16,
   "metadata": {},
   "outputs": [
    {
     "data": {
      "text/plain": [
       "(type, 'Circle')"
      ]
     },
     "execution_count": 16,
     "metadata": {},
     "output_type": "execute_result"
    }
   ],
   "source": [
    "type(Circle), Circle.__name__"
   ]
  },
  {
   "cell_type": "code",
   "execution_count": 17,
   "metadata": {},
   "outputs": [
    {
     "data": {
      "text/plain": [
       "3.14"
      ]
     },
     "execution_count": 17,
     "metadata": {},
     "output_type": "execute_result"
    }
   ],
   "source": [
    "c = Circle(0, 0, 1)\n",
    "c.area()"
   ]
  },
  {
   "cell_type": "code",
   "execution_count": 18,
   "metadata": {},
   "outputs": [],
   "source": [
    "CUSTOM_COUNTER = 0"
   ]
  },
  {
   "cell_type": "code",
   "execution_count": 19,
   "metadata": {},
   "outputs": [],
   "source": [
    "class MyCustomType(type):\n",
    "\n",
    "    def __prepare__(name, bases):\n",
    "        console.print(\"[aquamarine1]__prepare_ called...[/]\")\n",
    "        console.print(\n",
    "            f\"Using custom metaclass __prepare__ with class_name {name} and Inherited Classes {bases}\\n\"\n",
    "        )\n",
    "\n",
    "        return {}\n",
    "\n",
    "    def __new__(mcls, name, bases, class_dict):\n",
    "\n",
    "        console.print(\"[gold1]__new__ called...[/]\")\n",
    "\n",
    "        print(f\"Using custom metaclass {mcls} to create class {name}...\\n\")\n",
    "        print(\n",
    "            f\"Developer can now run organisation validations here by adding metaclass {mcls} to class {name}...\\n\"\n",
    "        )\n",
    "\n",
    "        if not name.istitle():\n",
    "\n",
    "            raise ValueError(\"Class name must start with an uppercase letter\")\n",
    "\n",
    "        else:\n",
    "\n",
    "            console.print(\"GOOD JOB! Title case used.\")\n",
    "\n",
    "        # print(vars(name)) name is just a string not the class object\n",
    "        cls_obj = super().__new__(mcls, name, bases, class_dict)\n",
    "\n",
    "        cls_obj.circ = lambda self: round(2 * math.pi * self.r, 2)\n",
    "\n",
    "        return cls_obj\n",
    "\n",
    "    def __call__(cls, *args, **kwargs):\n",
    "        console.print(\"==========================================================\")\n",
    "        console.print(\"[bright_yellow]__call__ called...[/]\")\n",
    "\n",
    "        print(f\"Calling {cls} with {args} and {kwargs}\")\n",
    "        if cls.__dict__[\"__doc__\"] is not None:\n",
    "            print(\"Good job! You added a doc string.\")\n",
    "            print(f\"{cls.__dict__['__doc__']}\\n\")\n",
    "        else:\n",
    "            raise ValueError(\"You forgot to add a doc string.\")\n",
    "\n",
    "        console.print(\"We can record how often the class is called.\")\n",
    "        # some DB etc...\n",
    "        global CUSTOM_COUNTER\n",
    "        CUSTOM_COUNTER += 1\n",
    "        print(f\"{cls} has been called {CUSTOM_COUNTER} times\\n\")\n",
    "        console.print(\"==========================================================\")\n",
    "\n",
    "        return super().__call__(*args, **kwargs)"
   ]
  },
  {
   "cell_type": "code",
   "execution_count": 20,
   "metadata": {},
   "outputs": [
    {
     "data": {
      "text/html": [
       "<pre style=\"white-space:pre;overflow-x:auto;line-height:normal;font-family:Menlo,'DejaVu Sans Mono',consolas,'Courier New',monospace\"><span style=\"color: #87ffd7; text-decoration-color: #87ffd7\">__prepare_ called...</span>\n",
       "</pre>\n"
      ],
      "text/plain": [
       "\u001b[38;5;122m__prepare_ called\u001b[0m\u001b[38;5;122m...\u001b[0m\n"
      ]
     },
     "metadata": {},
     "output_type": "display_data"
    },
    {
     "data": {
      "text/html": [
       "<pre style=\"white-space:pre;overflow-x:auto;line-height:normal;font-family:Menlo,'DejaVu Sans Mono',consolas,'Courier New',monospace\">Using custom metaclass __prepare__ with class_name Circle and Inherited Classes <span style=\"font-weight: bold\">()</span>\n",
       "\n",
       "</pre>\n"
      ],
      "text/plain": [
       "Using custom metaclass __prepare__ with class_name Circle and Inherited Classes \u001b[1m(\u001b[0m\u001b[1m)\u001b[0m\n",
       "\n"
      ]
     },
     "metadata": {},
     "output_type": "display_data"
    },
    {
     "data": {
      "text/html": [
       "<pre style=\"white-space:pre;overflow-x:auto;line-height:normal;font-family:Menlo,'DejaVu Sans Mono',consolas,'Courier New',monospace\"><span style=\"color: #ffd700; text-decoration-color: #ffd700\">__new__ called...</span>\n",
       "</pre>\n"
      ],
      "text/plain": [
       "\u001b[38;5;220m__new__ called\u001b[0m\u001b[38;5;220m...\u001b[0m\n"
      ]
     },
     "metadata": {},
     "output_type": "display_data"
    },
    {
     "name": "stdout",
     "output_type": "stream",
     "text": [
      "Using custom metaclass <class '__main__.MyCustomType'> to create class Circle...\n",
      "\n",
      "Developer can now run organisation validations here by adding metaclass <class '__main__.MyCustomType'> to class Circle...\n",
      "\n"
     ]
    },
    {
     "data": {
      "text/html": [
       "<pre style=\"white-space:pre;overflow-x:auto;line-height:normal;font-family:Menlo,'DejaVu Sans Mono',consolas,'Courier New',monospace\">GOOD JOB! Title case used.\n",
       "</pre>\n"
      ],
      "text/plain": [
       "GOOD JOB! Title case used.\n"
      ]
     },
     "metadata": {},
     "output_type": "display_data"
    }
   ],
   "source": [
    "class Circle(metaclass=MyCustomType):\n",
    "    \"\"\"TEST\"\"\"\n",
    "\n",
    "    def __init__(self, x, y, r):\n",
    "        console.print(f\"[green_yellow]\\n__init__ being called with {x}, {y}, {r}[/]\")\n",
    "\n",
    "        self.x = x\n",
    "        self.y = y\n",
    "        self.r = r\n",
    "\n",
    "    def area(self):\n",
    "\n",
    "        return round(math.pi * self.r**2, 2)\n",
    "\n",
    "\n",
    "# NB the __call__ method is not called"
   ]
  },
  {
   "cell_type": "code",
   "execution_count": 21,
   "metadata": {},
   "outputs": [],
   "source": [
    "# vars(Circle)"
   ]
  },
  {
   "cell_type": "code",
   "execution_count": 22,
   "metadata": {},
   "outputs": [
    {
     "data": {
      "text/html": [
       "<pre style=\"white-space:pre;overflow-x:auto;line-height:normal;font-family:Menlo,'DejaVu Sans Mono',consolas,'Courier New',monospace\">==========================================================\n",
       "</pre>\n"
      ],
      "text/plain": [
       "==========================================================\n"
      ]
     },
     "metadata": {},
     "output_type": "display_data"
    },
    {
     "data": {
      "text/html": [
       "<pre style=\"white-space:pre;overflow-x:auto;line-height:normal;font-family:Menlo,'DejaVu Sans Mono',consolas,'Courier New',monospace\"><span style=\"color: #ffff00; text-decoration-color: #ffff00\">__call__ called...</span>\n",
       "</pre>\n"
      ],
      "text/plain": [
       "\u001b[93m__call__ called\u001b[0m\u001b[93m...\u001b[0m\n"
      ]
     },
     "metadata": {},
     "output_type": "display_data"
    },
    {
     "name": "stdout",
     "output_type": "stream",
     "text": [
      "Calling <class '__main__.Circle'> with (1, 1, 5) and {}\n",
      "Good job! You added a doc string.\n",
      "TEST\n",
      "\n"
     ]
    },
    {
     "data": {
      "text/html": [
       "<pre style=\"white-space:pre;overflow-x:auto;line-height:normal;font-family:Menlo,'DejaVu Sans Mono',consolas,'Courier New',monospace\">We can record how often the class is called.\n",
       "</pre>\n"
      ],
      "text/plain": [
       "We can record how often the class is called.\n"
      ]
     },
     "metadata": {},
     "output_type": "display_data"
    },
    {
     "name": "stdout",
     "output_type": "stream",
     "text": [
      "<class '__main__.Circle'> has been called 1 times\n",
      "\n"
     ]
    },
    {
     "data": {
      "text/html": [
       "<pre style=\"white-space:pre;overflow-x:auto;line-height:normal;font-family:Menlo,'DejaVu Sans Mono',consolas,'Courier New',monospace\">==========================================================\n",
       "</pre>\n"
      ],
      "text/plain": [
       "==========================================================\n"
      ]
     },
     "metadata": {},
     "output_type": "display_data"
    },
    {
     "data": {
      "text/html": [
       "<pre style=\"white-space:pre;overflow-x:auto;line-height:normal;font-family:Menlo,'DejaVu Sans Mono',consolas,'Courier New',monospace\">\n",
       "<span style=\"color: #afff00; text-decoration-color: #afff00\">__init__ being called with </span><span style=\"color: #afff00; text-decoration-color: #afff00; font-weight: bold\">1</span><span style=\"color: #afff00; text-decoration-color: #afff00\">, </span><span style=\"color: #afff00; text-decoration-color: #afff00; font-weight: bold\">1</span><span style=\"color: #afff00; text-decoration-color: #afff00\">, </span><span style=\"color: #afff00; text-decoration-color: #afff00; font-weight: bold\">5</span>\n",
       "</pre>\n"
      ],
      "text/plain": [
       "\n",
       "\u001b[38;5;154m__init__ being called with \u001b[0m\u001b[1;38;5;154m1\u001b[0m\u001b[38;5;154m, \u001b[0m\u001b[1;38;5;154m1\u001b[0m\u001b[38;5;154m, \u001b[0m\u001b[1;38;5;154m5\u001b[0m\n"
      ]
     },
     "metadata": {},
     "output_type": "display_data"
    },
    {
     "name": "stdout",
     "output_type": "stream",
     "text": [
      "78.54\n",
      "31.42\n"
     ]
    }
   ],
   "source": [
    "c = Circle(1, 1, random.randint(1, 10))\n",
    "print(c.area())\n",
    "print(c.circ())"
   ]
  },
  {
   "cell_type": "code",
   "execution_count": null,
   "metadata": {},
   "outputs": [],
   "source": []
  },
  {
   "cell_type": "code",
   "execution_count": null,
   "metadata": {},
   "outputs": [],
   "source": []
  }
 ],
 "metadata": {
  "kernelspec": {
   "display_name": "Python 3",
   "language": "python",
   "name": "python3"
  },
  "language_info": {
   "codemirror_mode": {
    "name": "ipython",
    "version": 3
   },
   "file_extension": ".py",
   "mimetype": "text/x-python",
   "name": "python",
   "nbconvert_exporter": "python",
   "pygments_lexer": "ipython3",
   "version": "3.12.6"
  }
 },
 "nbformat": 4,
 "nbformat_minor": 2
}
